{
 "cells": [
  {
   "cell_type": "code",
   "execution_count": 14,
   "id": "064af455",
   "metadata": {},
   "outputs": [],
   "source": [
    "\n",
    "import numpy as np\n",
    "from PIL import Image\n",
    "import tensorflow as tf\n",
    "from tensorflow.keras.applications.efficientnet import preprocess_input\n",
    "import style\n",
    "from tensorflow.keras.preprocessing.image import load_img, img_to_array"
   ]
  },
  {
   "cell_type": "code",
   "execution_count": 15,
   "id": "07833d7a",
   "metadata": {},
   "outputs": [],
   "source": [
    "model = tf.keras.models.load_model('/home/souradip/Documents/Everyday_object_detector/hackomedfinaaaal.h5')\n"
   ]
  },
  {
   "cell_type": "code",
   "execution_count": 16,
   "id": "1b51067b",
   "metadata": {},
   "outputs": [
    {
     "name": "stdout",
     "output_type": "stream",
     "text": [
      "Model: \"model\"\n",
      "_________________________________________________________________\n",
      " Layer (type)                Output Shape              Param #   \n",
      "=================================================================\n",
      " inputLayer (InputLayer)     [(None, 224, 224, 3)]     0         \n",
      "                                                                 \n",
      " AugmentationLayer (Sequent  (None, 224, 224, 3)       0         \n",
      " ial)                                                            \n",
      "                                                                 \n",
      " efficientnetb2 (Functional  (None, 1408)              7768569   \n",
      " )                                                               \n",
      "                                                                 \n",
      " dense (Dense)               (None, 256)               360704    \n",
      "                                                                 \n",
      " activation (Activation)     (None, 256)               0         \n",
      "                                                                 \n",
      " batch_normalization (Batch  (None, 256)               1024      \n",
      " Normalization)                                                  \n",
      "                                                                 \n",
      " dropout (Dropout)           (None, 256)               0         \n",
      "                                                                 \n",
      " dense_1 (Dense)             (None, 3)                 771       \n",
      "                                                                 \n",
      " activationLayer (Activatio  (None, 3)                 0         \n",
      " n)                                                              \n",
      "                                                                 \n",
      "=================================================================\n",
      "Total params: 8131068 (31.02 MB)\n",
      "Trainable params: 7995413 (30.50 MB)\n",
      "Non-trainable params: 135655 (529.89 KB)\n",
      "_________________________________________________________________\n"
     ]
    }
   ],
   "source": [
    "model.summary()"
   ]
  },
  {
   "cell_type": "code",
   "execution_count": 17,
   "id": "6e7f6504",
   "metadata": {},
   "outputs": [
    {
     "name": "stdout",
     "output_type": "stream",
     "text": [
      "1/1 [==============================] - 2s 2s/step\n",
      "Predicted class: 0\n"
     ]
    }
   ],
   "source": [
    "image_path = '/home/souradip/Documents/Everyday_object_classification/O_12569.jpg'  # Replace with the actual path\n",
    "image = load_img(image_path, target_size=(224, 224))\n",
    "image_array = img_to_array(image)\n",
    "image_array = np.expand_dims(image_array, axis=0)  # Add batch dimension\n",
    "  # Normalize pixel values\n",
    "    \n",
    "# Make a prediction\n",
    "predictions = model.predict(image_array)\n",
    "\n",
    "# Interpret the prediction (adjust this based on your model's output)\n",
    "predicted_class = np.argmax(predictions[0])  # Assuming your model outputs class probabilities\n",
    "\n",
    "# Print the prediction\n",
    "print(f\"Predicted class: {predicted_class}\")"
   ]
  },
  {
   "cell_type": "code",
   "execution_count": null,
   "id": "5d53df62",
   "metadata": {},
   "outputs": [],
   "source": []
  }
 ],
 "metadata": {
  "kernelspec": {
   "display_name": "Python 3 (ipykernel)",
   "language": "python",
   "name": "python3"
  },
  "language_info": {
   "codemirror_mode": {
    "name": "ipython",
    "version": 3
   },
   "file_extension": ".py",
   "mimetype": "text/x-python",
   "name": "python",
   "nbconvert_exporter": "python",
   "pygments_lexer": "ipython3",
   "version": "3.11.3"
  }
 },
 "nbformat": 4,
 "nbformat_minor": 5
}
